{
 "cells": [
  {
   "cell_type": "code",
   "execution_count": null,
   "metadata": {},
   "outputs": [
    {
     "ename": "AttributeError",
     "evalue": "module 'rpy2.robjects.pandas2ri' has no attribute 'ri2py'",
     "output_type": "error",
     "traceback": [
      "\u001b[0;31m---------------------------------------------------------------------------\u001b[0m",
      "\u001b[0;31mAttributeError\u001b[0m                            Traceback (most recent call last)",
      "Cell \u001b[0;32mIn[7], line 11\u001b[0m\n\u001b[1;32m      8\u001b[0m r_data \u001b[38;5;241m=\u001b[39m r(\u001b[38;5;124m'\u001b[39m\u001b[38;5;124mdatasets::airquality\u001b[39m\u001b[38;5;124m'\u001b[39m)\n\u001b[1;32m     10\u001b[0m \u001b[38;5;66;03m# Convert to pandas DataFrame\u001b[39;00m\n\u001b[0;32m---> 11\u001b[0m airquality_df \u001b[38;5;241m=\u001b[39m pandas2ri\u001b[38;5;241m.\u001b[39mri2py(r_data)\n\u001b[1;32m     13\u001b[0m \u001b[38;5;66;03m# Display the DataFrame\u001b[39;00m\n\u001b[1;32m     14\u001b[0m \u001b[38;5;28mprint\u001b[39m(airquality_df)\n",
      "\u001b[0;31mAttributeError\u001b[0m: module 'rpy2.robjects.pandas2ri' has no attribute 'ri2py'"
     ]
    }
   ],
   "source": [
    "import pandas as pd\n",
    "from rpy2.robjects import r, pandas2ri\n",
    "\n",
    "# Activate pandas-to-R conversion\n",
    "pandas2ri.activate()\n",
    "import pandas as pd\n",
    "from rpy2.robjects import r, pandas2ri\n",
    "from rpy2.robjects.conversion import localconverter\n",
    "\n",
    "# Activate pandas-to-R conversion\n",
    "pandas2ri.activate()\n",
    "\n",
    "# Load the airquality dataset from R\n",
    "r_data = r('datasets::airquality')\n",
    "\n",
    "# Convert to pandas DataFrame\n",
    "with localconverter(pandas2ri.converter):\n",
    "    airquality_df = pandas2ri.rpy2py(r_data)\n",
    "\n",
    "# Display the DataFrame\n",
    "print(airquality_df)\n",
    "# Load the airquality dataset from R\n",
    "r_data = r('datasets::airquality')\n",
    "\n",
    "# Convert to pandas DataFrame\n",
    "airquality_df = pandas2ri.ri2py(r_data)\n",
    "\n",
    "# Display the DataFrame\n",
    "print(airquality_df)"
   ]
  }
 ],
 "metadata": {
  "kernelspec": {
   "display_name": "base",
   "language": "python",
   "name": "python3"
  },
  "language_info": {
   "codemirror_mode": {
    "name": "ipython",
    "version": 3
   },
   "file_extension": ".py",
   "mimetype": "text/x-python",
   "name": "python",
   "nbconvert_exporter": "python",
   "pygments_lexer": "ipython3",
   "version": "3.12.4"
  }
 },
 "nbformat": 4,
 "nbformat_minor": 2
}

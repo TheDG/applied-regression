{
 "cells": [
  {
   "cell_type": "code",
   "execution_count": null,
   "metadata": {},
   "outputs": [],
   "source": [
    "import pandas as pd\n",
    "\n",
    "# Load the scatterplots dataset\n",
    "scatterplots = pd.read_csv('scatterplots.csv')\n",
    "\n",
    "# Display summary statistics\n",
    "summary = scatterplots.describe()\n",
    "print(summary)"
   ]
  },
  {
   "cell_type": "code",
   "execution_count": null,
   "metadata": {},
   "outputs": [],
   "source": [
    "import pandas as pd\n",
    "import matplotlib.pyplot as plt\n",
    "\n",
    "# Load the scatterplots dataset\n",
    "scatterplots = pd.read_csv('scatterplots.csv')\n",
    "\n",
    "# Assuming the pairs are (X1, Y1), (X2, Y2), (X3, Y3), (X4, Y4)\n",
    "df1 = scatterplots[['X1', 'Y1']]\n",
    "df2 = scatterplots[['X2', 'Y2']]\n",
    "df3 = scatterplots[['X3', 'Y3']]\n",
    "df4 = scatterplots[['X4', 'Y4']]\n",
    "\n",
    "# Compute correlation for each DataFrame\n",
    "corr_df1 = df1.corr().iloc[0, 1]\n",
    "corr_df2 = df2.corr().iloc[0, 1]\n",
    "corr_df3 = df3.corr().iloc[0, 1]\n",
    "corr_df4 = df4.corr().iloc[0, 1]\n",
    "\n",
    "print(f\"Correlation between X1 and Y1: {corr_df1}\")\n",
    "print(f\"Correlation between X2 and Y2: {corr_df2}\")\n",
    "print(f\"Correlation between X3 and Y3: {corr_df3}\")\n",
    "print(f\"Correlation between X4 and Y4: {corr_df4}\")\n",
    "\n",
    "# Create scatter plots\n",
    "plt.figure(figsize=(10, 10))\n",
    "\n",
    "plt.subplot(2, 2, 1)\n",
    "plt.scatter(df1['X1'], df1['Y1'])\n",
    "plt.title('Scatter Plot of X1 vs Y1')\n",
    "plt.xlabel('X1')\n",
    "plt.ylabel('Y1')\n",
    "\n",
    "plt.subplot(2, 2, 2)\n",
    "plt.scatter(df2['X2'], df2['Y2'])\n",
    "plt.title('Scatter Plot of X2 vs Y2')\n",
    "plt.xlabel('X2')\n",
    "plt.ylabel('Y2')\n",
    "\n",
    "plt.subplot(2, 2, 3)\n",
    "plt.scatter(df3['X3'], df3['Y3'])\n",
    "plt.title('Scatter Plot of X3 vs Y3')\n",
    "plt.xlabel('X3')\n",
    "plt.ylabel('Y3')\n",
    "\n",
    "plt.subplot(2, 2, 4)\n",
    "plt.scatter(df4['X4'], df4['Y4'])\n",
    "plt.title('Scatter Plot of X4 vs Y4')\n",
    "plt.xlabel('X4')\n",
    "plt.ylabel('Y4')\n",
    "\n",
    "plt.tight_layout()\n",
    "plt.show()"
   ]
  }
 ],
 "metadata": {
  "kernelspec": {
   "display_name": "base",
   "language": "python",
   "name": "python3"
  },
  "language_info": {
   "codemirror_mode": {
    "name": "ipython",
    "version": 3
   },
   "file_extension": ".py",
   "mimetype": "text/x-python",
   "name": "python",
   "nbconvert_exporter": "python",
   "pygments_lexer": "ipython3",
   "version": "3.12.4"
  }
 },
 "nbformat": 4,
 "nbformat_minor": 2
}
